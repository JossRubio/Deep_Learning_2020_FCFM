{
  "nbformat": 4,
  "nbformat_minor": 0,
  "metadata": {
    "kernelspec": {
      "display_name": "Python 3",
      "language": "python",
      "name": "python3"
    },
    "language_info": {
      "codemirror_mode": {
        "name": "ipython",
        "version": 3
      },
      "file_extension": ".py",
      "mimetype": "text/x-python",
      "name": "python",
      "nbconvert_exporter": "python",
      "pygments_lexer": "ipython3",
      "version": "3.6.8"
    },
    "colab": {
      "name": "Resolucion_Respuestas_Tarea_2_CC6204_2020",
      "provenance": [],
      "collapsed_sections": [],
      "toc_visible": true
    },
    "accelerator": "GPU"
  },
  "cells": [
    {
      "cell_type": "markdown",
      "metadata": {
        "id": "vEJLFL-H5axT"
      },
      "source": [
        "# Tarea 2: Backpropagation, descenso de gradiente y entrenamiento <br/> CC6204 Deep Learning, Universidad de Chile  <br/> Hoja de respuestas\n",
        "## Nombre: José Manuel Rubio Cienfuegos\n",
        "\n",
        "Fecha de entrega: 16 de octubre de 2020\n",
        "\n",
        "Para la **corrección automática** hemos creado una funcionalidad nueva que les permite comprobar el tiempo que demora su solución. En colab estos tiempos pueden ser variables entre una ejecución y otra del mismo código. No se preocupen si les falla el test por `time` algunas veces. Pueden hacer `time=0` en la ultima linea de cada test para evitar estos errores. También hemos usado nombres para los tests. Estos pueden serles de ayuda para determinar qué partes de su implementación deben corregir ;-)\n"
      ]
    },
    {
      "cell_type": "code",
      "metadata": {
        "id": "9rN1E2MUXDSn",
        "colab": {
          "base_uri": "https://localhost:8080/"
        },
        "outputId": "dc4d43ce-278f-4ce3-96bb-7d1cbcc99b9b"
      },
      "source": [
        "# Este notebook está pensado para correr en CoLaboratory. \n",
        "# Lo único imprescindible por importar es torch\n",
        "import torch\n",
        "\n",
        "# Posiblemenete quieras instalar e importar ipdb para debuggear.\n",
        "# Si es así, descomenta lo siguiente:\n",
        "# !pip install -q ipdb\n",
        "# import ipdb\n",
        "\n",
        "# Aqui instalamos la libreria de correccion del curso\n",
        "!pip install -U \"git+https://github.com/dccuchile/CC6204.git@master#egg=cc6204&subdirectory=autocorrect\"\n",
        "from timeit import default_timer as timer"
      ],
      "execution_count": null,
      "outputs": [
        {
          "output_type": "stream",
          "text": [
            "Collecting cc6204\n",
            "  Cloning https://github.com/dccuchile/CC6204.git (to revision master) to /tmp/pip-install-vhv1xepv/cc6204\n",
            "  Running command git clone -q https://github.com/dccuchile/CC6204.git /tmp/pip-install-vhv1xepv/cc6204\n",
            "Requirement already satisfied, skipping upgrade: requests in /usr/local/lib/python3.6/dist-packages (from cc6204) (2.23.0)\n",
            "Requirement already satisfied, skipping upgrade: numpy in /usr/local/lib/python3.6/dist-packages (from cc6204) (1.18.5)\n",
            "Requirement already satisfied, skipping upgrade: torch in /usr/local/lib/python3.6/dist-packages (from cc6204) (1.7.0+cu101)\n",
            "Requirement already satisfied, skipping upgrade: idna<3,>=2.5 in /usr/local/lib/python3.6/dist-packages (from requests->cc6204) (2.10)\n",
            "Requirement already satisfied, skipping upgrade: urllib3!=1.25.0,!=1.25.1,<1.26,>=1.21.1 in /usr/local/lib/python3.6/dist-packages (from requests->cc6204) (1.24.3)\n",
            "Requirement already satisfied, skipping upgrade: certifi>=2017.4.17 in /usr/local/lib/python3.6/dist-packages (from requests->cc6204) (2020.11.8)\n",
            "Requirement already satisfied, skipping upgrade: chardet<4,>=3.0.2 in /usr/local/lib/python3.6/dist-packages (from requests->cc6204) (3.0.4)\n",
            "Requirement already satisfied, skipping upgrade: typing-extensions in /usr/local/lib/python3.6/dist-packages (from torch->cc6204) (3.7.4.3)\n",
            "Requirement already satisfied, skipping upgrade: dataclasses in /usr/local/lib/python3.6/dist-packages (from torch->cc6204) (0.8)\n",
            "Requirement already satisfied, skipping upgrade: future in /usr/local/lib/python3.6/dist-packages (from torch->cc6204) (0.16.0)\n",
            "Building wheels for collected packages: cc6204\n",
            "  Building wheel for cc6204 (setup.py) ... \u001b[?25l\u001b[?25hdone\n",
            "  Created wheel for cc6204: filename=cc6204-0.5.0-cp36-none-any.whl size=5801 sha256=3b688372a962d9063a027bb87e59d2b572e93bdde881e73b8c75a3ed0b6aff95\n",
            "  Stored in directory: /tmp/pip-ephem-wheel-cache-_u_6mmqf/wheels/62/f0/30/aadcb7ce24a2f9c935890518e902d4e23bf97b80f47bb64414\n",
            "Successfully built cc6204\n",
            "Installing collected packages: cc6204\n",
            "Successfully installed cc6204-0.5.0\n"
          ],
          "name": "stdout"
        }
      ]
    },
    {
      "cell_type": "code",
      "metadata": {
        "id": "PVhyLn9G5NJV",
        "colab": {
          "base_uri": "https://localhost:8080/"
        },
        "outputId": "3d2cacbb-55af-43a9-a74f-873a01075259"
      },
      "source": [
        "# importamos las herramientas del curso\n",
        "from cc6204 import AutoCorrect, FailedTest\n",
        "\n",
        "# ingresa el host y port que posteamos en u-cursos\n",
        "corrector = AutoCorrect(host=\"cc6204.dcc.uchile.cl\", port=443)\n",
        "\n",
        "# anota el token que te daremos en u-cursos\n",
        "token = \"]ye/Ox;nsz\""
      ],
      "execution_count": null,
      "outputs": [
        {
          "output_type": "stream",
          "text": [
            "Connection stablished\n"
          ],
          "name": "stdout"
        }
      ]
    },
    {
      "cell_type": "markdown",
      "metadata": {
        "id": "fg8i3agyXDSr"
      },
      "source": [
        "# Parte 1: Preliminares: funciones de activación y función de error\n"
      ]
    },
    {
      "cell_type": "markdown",
      "metadata": {
        "id": "NbzcMAkOXDSr"
      },
      "source": [
        "## 1a) Derivando las funciones de activación"
      ]
    },
    {
      "cell_type": "markdown",
      "metadata": {
        "id": "pcybEP7fXDSs"
      },
      "source": [
        "Escribe acá tus respuestas para las derivadas de cada función de activación.\n",
        "<br>\n",
        "\n",
        "\\begin{equation}\n",
        "\\frac{\\partial\\ \\text{relu}(x)}{\\partial x} = \\frac{\\text{relu}(x)}{x} = \\frac{x+|x|}{2x} = \\left\\{ \\begin{array}{c}\n",
        "\\left(\\displaystyle 1,x \\geq 0\\right)\\\\\n",
        "\\left(\\displaystyle 0, x<0 \\right )\n",
        "\\end{array} \\right. \\\\\n",
        "\\end{equation}\n",
        "<br>\n",
        "\n",
        "\\begin{eqnarray}\n",
        "\\frac{\\partial\\ \\text{swish}(x, \\beta)}{\\partial x} & = & sig(\\beta x) + x\\beta(sig(x)(1-sig(x)) = \\frac{1}{1+e^{-\\beta x}} + \\frac{x\\beta e^{-x}}{(1+e^{-x})^{2}} \\\\\n",
        "\\frac{\\partial\\ \\text{swish}(x, \\beta)}{\\partial \\beta} & = & x^{2}sig(\\beta)(1-sig(\\beta)) = \\frac{x^{2}}{1+e^{\\beta}}(1-\\frac{1}{1+e^{-\\beta}}) \\\\\n",
        "\\end{eqnarray}\n",
        "<br>\n",
        "\n",
        "\\begin{eqnarray}\n",
        "\\frac{\\partial\\ \\text{celu}(x, \\alpha)}{\\partial x} & = & \\left\\{ \\begin{array}{c}\n",
        "\\left(\\displaystyle 1,x \\geq 0\\right)\\\\\n",
        "\\left(\\displaystyle e^{\\frac{x}{\\alpha}}, x<0 \\right )\n",
        "\\end{array} \\right.\n",
        " \\\\\n",
        "\\frac{\\partial\\ \\text{celu}(x, \\alpha)}{\\partial \\alpha} & = & \\left\\{ \\begin{array}{c}\n",
        "\\left(\\displaystyle 0,x \\geq 0\\right)\\\\\n",
        "\\left(\\displaystyle e^{\\frac{x}{\\alpha}}(1-\\frac{x}{\\alpha}) - 1, x<0 \\right )\n",
        "\\end{array} \\right. \\\\\n",
        "\\end{eqnarray}"
      ]
    },
    {
      "cell_type": "code",
      "metadata": {
        "id": "6QfQVggvNuv9"
      },
      "source": [
        "# Más adelante en la tarea necesitaremos usar las funciones de activación \n",
        "# que implementaste en la Tarea 1 y sus derivadas.\n",
        "# Acá implementa las derivadas de las funciones de activación\n",
        "\n",
        "# Una forma de implementarlas (tal vez no la mejor) es reutilizando la misma función\n",
        "def sig(T, gradient=False):\n",
        "  if gradient:\n",
        "    sigT = sig(T)\n",
        "    return sigT * (1 - sigT)\n",
        "  return torch.reciprocal(1 + torch.exp(-1 * T))\n",
        "\n",
        "def relu(T, gradient=False):\n",
        "  r, c = T.size()\n",
        "  T_ones, T_zeros = torch.ones([r, c]), torch.zeros([r, c])\n",
        "  if gradient:\n",
        "    return torch.where(T>0, T_ones, T_zeros)\n",
        "  else:\n",
        "    return torch.where(T>0, T, T_zeros)\n",
        "\n",
        "def swish(T, beta, gradient=False, gradient_beta=False):\n",
        "  r, c = T.size()\n",
        "  beta = beta*torch.ones([r,c])\n",
        "  if gradient:\n",
        "    return sig(beta*T) + beta*T*(sig(T)*(1 - sig(T)))\n",
        "  if gradient_beta:\n",
        "    return T*T*sig(beta)*(1 - sig(beta))\n",
        "  else:\n",
        "    return T*sig(beta*T)\n",
        "\n",
        "def celu(T, alpha, gradient=False, gradient_alpha=False):\n",
        "  r, c = T.size()\n",
        "  T_ones, T_zeros = torch.ones([r,c]), torch.zeros([r,c])\n",
        "  if alpha == 0:\n",
        "    raise ValueError(\"alpha cannot be 0\")\n",
        "  if gradient:\n",
        "    return torch.where(T>=0, T_ones, torch.exp(T/alpha))\n",
        "  if gradient_alpha:\n",
        "    return torch.where(T>=0, T_zeros, torch.exp(T/alpha)*(1 - T/alpha) - 1)\n",
        "  else:\n",
        "    return torch.where(T>=0, T, alpha*(torch.exp(T/alpha)-1))"
      ],
      "execution_count": null,
      "outputs": []
    },
    {
      "cell_type": "markdown",
      "metadata": {
        "id": "ifPp_c1eXDSt"
      },
      "source": [
        "## 1b) Entropía Cruzada"
      ]
    },
    {
      "cell_type": "code",
      "metadata": {
        "id": "w4wXj3AUXDSu"
      },
      "source": [
        "# Tu código acá\n",
        "def CELoss(Q, P, estable=True, epsilon=1e-8):\n",
        "  # Q y P: representan distribuciones de probabilidad discreta  \n",
        "  #        (mediante matrices con las mismas dimensiones)\n",
        "  # estable y epsilon: nos permiten lograr estabilidad numérica cuando \n",
        "  #       intentamos computar el logaritmo de valores muy pequeños.\n",
        "  #       epsilon limitará el valor mínimo del valor original cuando estable=True\n",
        "  r, c = Q.size()\n",
        "  if estable:\n",
        "    epsilon_tensor = epsilon*torch.ones([r, c], dtype=torch.float32)\n",
        "    Q = torch.where(Q<=epsilon, epsilon_tensor, Q)\n",
        "  CE_pq = -torch.sum(P*torch.log(Q), dim=1)\n",
        "  return torch.mean(CE_pq)"
      ],
      "execution_count": null,
      "outputs": []
    },
    {
      "cell_type": "code",
      "metadata": {
        "id": "qrjGpVdg4xi1",
        "colab": {
          "base_uri": "https://localhost:8080/"
        },
        "outputId": "8f95d4dd-760f-4ac4-8621-ff4a483e6075"
      },
      "source": [
        "# Tests del API del curso\n",
        "for test in ['small', 'estable', 'eps', 'no-estable']:\n",
        "  # Obtengamos dos distribuciones de probabilidad y los parametros estable y epsilon\n",
        "  Q, P, estable, eps = corrector.get_test_data(homework=2, question=\"1b\", test=test, token=token)\n",
        "  # Corramos tu implementacion de CELoss para ver como se comporta\n",
        "  s = timer()\n",
        "  result = CELoss(Q=torch.Tensor(Q), P=torch.Tensor(P), estable=estable, epsilon=eps)\n",
        "  t = timer() - s\n",
        "\n",
        "  # Veamos si todo fue OK :)\n",
        "  # Si el Test te falla algunas veces por [time], puedes hacer time=0 ;-)\n",
        "  corrector.sumbit(homework=2, question=\"1b\", test=test, token=token, answer=result, time=0)"
      ],
      "execution_count": null,
      "outputs": [
        {
          "output_type": "stream",
          "text": [
            "Using cached test data\n"
          ],
          "name": "stdout"
        },
        {
          "output_type": "stream",
          "text": [
            "/usr/local/lib/python3.6/dist-packages/ipykernel_launcher.py:12: FutureWarning: Old method `sumbit` has been renamed to `submit`, please use that instead.\n",
            "  if sys.path[0] == '':\n"
          ],
          "name": "stderr"
        },
        {
          "output_type": "stream",
          "text": [
            "Correct Test!\n",
            "Using cached test data\n",
            "Correct Test!\n",
            "Using cached test data\n",
            "Correct Test!\n",
            "Using cached test data\n",
            "Correct Test!\n"
          ],
          "name": "stdout"
        }
      ]
    },
    {
      "cell_type": "markdown",
      "metadata": {
        "id": "rlLnZM7hi0C2"
      },
      "source": [
        "## 1c) Opcional: Entropía Cruzada Categórica"
      ]
    },
    {
      "cell_type": "code",
      "metadata": {
        "id": "7Qj1GI81izYt"
      },
      "source": [
        "# No es necesario que entregues código en esta parte.\n",
        "# Pero si quieres, igual hay espacio ;-)"
      ],
      "execution_count": null,
      "outputs": []
    },
    {
      "cell_type": "markdown",
      "metadata": {
        "id": "EwedMCZjXDSw"
      },
      "source": [
        "# Parte 2: Más derivadas y back propagation"
      ]
    },
    {
      "cell_type": "markdown",
      "metadata": {
        "id": "nftKKxlBXDSx"
      },
      "source": [
        "## 2a) Derivando la última capa"
      ]
    },
    {
      "cell_type": "markdown",
      "metadata": {
        "id": "WDBD96xWXDSx"
      },
      "source": [
        "Escribe tu cálculo acá.\n",
        "<br>\n",
        "\n",
        "\\begin{equation}\n",
        "\\frac{\\partial \\cal L}{\\partial u^{(L+1)}} = ?\n",
        "\\end{equation}\n",
        "\n",
        "\\begin{equation}\n",
        "u^{(L+1)} = h^{(L)}U + C\n",
        "\\end{equation}\n",
        "\n",
        "\\begin{equation}\n",
        "\\cal L = \\frac{1}{B} \\sum^{B}_{k}\\sum_{i}^{C} y_{i}log(\\frac{1}{\\hat{y}_{i}})\n",
        "\\end{equation}\n",
        "\n",
        "$B, C$ corresponden al tamaño del *batch* y la cantidad de clases respectivamente.\n",
        "\n",
        "**Resolución:**\n",
        "\n",
        "En primer lugar se tiene que la predicción $\\hat{y}=softmax(u^{(L+1)})$, siendo este el output de la red neuronal, entonces se tiene una composición de funciones, por ende: \n",
        "\n",
        "\\begin{equation}\n",
        "\\frac{\\partial \\cal L}{\\partial u^{(L+1)}} = \\frac{\\partial \\cal L}{\\partial \\hat{y}} \\cdot \\frac{\\partial \\hat{y}}{\\partial u^{(L+1)}}\n",
        "\\end{equation}\n",
        "\n",
        "Por ende, se deben calcular en primer lugar las derivadas de la predicción de última función (softmáx) en función de la última capa. Entonces se tiene lo siguiente:\n",
        "\n",
        "\\begin{equation}\n",
        "\\hat{y}_{i} = \\frac{e^{x_{i}}}{\\sum_{k}e^{x_{k}}}\n",
        "\\end{equation}\n",
        "\n",
        "Si se esta derivando en función de $x_{j}$ donde $i=j$ entonces:\n",
        "\n",
        "\\begin{equation}\n",
        "  \\frac{\\partial \\hat{y}}{\\partial x_{j}} = \\frac{e^{x_{j}}\\sum_{k}e^{x_{k}} - e^{2x_{j}}}{(\\sum_{k}e^{x_{k}})^{2}} = \\hat{y}_{j} - \\hat{y}_{j}^{2}\n",
        " = \\hat{y}_{j}(1 - \\hat{y}_{j}) \\end{equation}\n",
        "\n",
        " Por otro lado si $i \\not= j$ entonces se tiene:\n",
        "\n",
        " \\begin{equation}\n",
        " \\frac{\\hat{y}}{x_{j}} = \\frac{-e^{x_{j}x_{i}}}{(\\sum_{k}e^{x_{k}})^{2}} = -\\hat{y}_{i}\\hat{y}_{j}\n",
        " \\end{equation}\n",
        "\n",
        " Teniendo esto, entonces calculando $\\frac{\\partial \\cal L}{\\partial \\hat{y_{j}}}$:\n",
        "\n",
        " \\begin{equation}\n",
        " \\frac{\\partial \\cal L}{\\partial \\hat{y}_{j}} = \\frac{1}{B} \\sum_{j}^{C} y_{j}\\frac{\\partial log(\\frac{1}{\\hat{y}_{j}})}{\\partial \\hat{y}_{j}} =- \\frac{1}{B} \\sum_{j}^{C}\\frac{y_{j}}{\\hat{y}_{j}}\n",
        " \\end{equation}\n",
        "\n",
        " Añadiendo $\\frac{\\partial \\hat{y}_{j}}{u^{(L+1)}_{j}}$ a esta expresión usando las derivadas $\\hat{y}_{j}$ obtenidas anteriormente entonces se tiene:\n",
        "\n",
        "\\begin{equation}\n",
        "\\frac{\\partial \\cal L}{\\partial u^{(L+1)}_{j}} = \\frac{1}{B}\\sum_{j}^{C}\\frac{y_{j}}{\\hat{y}_{j}} \\cdot \\frac{\\partial \\hat{y}_{j}}{\\partial u^{(L+1)}} = -\\frac{1}{B} \\frac{\\not{\\hat{y}_{i}}(1-\\hat{y}_{i})y_{i}}{\\not{\\hat{y}_{i}}} - \\sum_{j\\not= i}^{C}\\frac{y_{j}}{\\not{\\hat{y}_{j}}}\\hat{y}_{i}\\not{\\hat{y}_{j}} \\\\\n",
        "\\frac{\\partial \\cal L}{\\partial u^{(L+1)}_{j}} = \\frac{1}{B}(-y_{i} + y_{i}\\hat{y}_{i} + \\hat{y}_{i}\\sum_{j\\not= i}^{C}y_{j}) = \\frac{1}{B} \\hat{y}_{i}\\not{\\sum_{j}^{C} y_{j}} - y_{i} \\\\\n",
        "\\frac{\\partial \\cal L}{\\partial u^{(L+1)}_{j}} = \\frac{1}{B}(\\hat{y}_{i} - y_{i})\n",
        "\\end{equation}\n",
        "\n",
        "Donde se tiene que $\\sum_{j}^{C} y_{j} = 1$, por ende finalmente se tiene que:\n",
        "\n",
        "\\begin{equation}\n",
        "\\frac{\\partial \\cal L}{\\partial u^{(L+1)}} = \\frac{1}{B}(\\hat{y} - y)\n",
        "\\end{equation}\n",
        "<br>\n",
        "(No es necesario que repitas el código que era solo de ayuda para chequear las dimensiones.)"
      ]
    },
    {
      "cell_type": "markdown",
      "metadata": {
        "id": "Nzp5SWKBXDSy"
      },
      "source": [
        "## 2b) Derivando la última capa (continuación)"
      ]
    },
    {
      "cell_type": "markdown",
      "metadata": {
        "id": "n9cubvpeXDSz"
      },
      "source": [
        "Escribe tus respuestas acá.\n",
        "\n",
        "**Resolución**\n",
        "\n",
        "Siguiendo el resultado obtenido anteriormente, entonces se tiene que lo siguiente:\n",
        "<br>\n",
        "\n",
        "\\begin{equation}\n",
        "\\frac{\\partial\\cal L}{\\partial U} = \\frac{\\partial \\cal L}{\\partial u^{(L+1)}} \\cdot \\frac{\\partial u^{(L+1)}}{\\partial U} \\\\\n",
        "\\end{equation}\n",
        "<br>\n",
        "\n",
        "\\begin{equation}\n",
        "\\frac{\\partial\\cal L}{\\partial c} = \\frac{\\partial \\cal L}{\\partial u^{(L+1)}} \\cdot \\frac{\\partial u^{(L+1)}}{\\partial c} \\\\\n",
        "\\end{equation}\n",
        "<br>\n",
        "\n",
        "\\begin{equation}\n",
        "\\frac{\\partial\\cal L}{\\partial h^{(L)}} = \\frac{\\partial \\cal L}{\\partial u^{(L+1)}} \\cdot \\frac{\\partial u^{(L+1)}}{\\partial h^{(L)}} \\\\\n",
        "\\end{equation}\n",
        "<br>\n",
        "\n",
        "Dado que el primer término ya se calculó, entonces se tiene que esto se reduce a realizar las derivadas $\\frac{\\partial u^{(L+1)}}{\\partial U}, \\frac{\\partial u^{(L+1)}}{\\partial c}, \\frac{\\partial u^{(L+1)}}{\\partial h^{(L)}}$ y luego realizar las operaciones necesarias para que las dimensiones queden bien definidas. Entonces se tiene lo siguiente:\n",
        "\n",
        "\\begin{equation}\n",
        "\\frac{\\partial\\cal L}{\\partial U_{i}} = \\frac{\\partial \\cal L}{\\partial u^{(L+1)}_{j}} \\cdot \\frac{\\partial u^{(L+1)}_{j}}{\\partial U_{i}}  \\Longrightarrow u^{(L+1)}_{j} = h_{jk}U_{k} + c\\\\\n",
        "\\end{equation}\n",
        "\n",
        "De la última expresión solo nos importa cuando $k=i$, entonces:\n",
        "\n",
        "\\begin{equation}\n",
        "\\frac{\\partial u^{(L+1)}_{j}}{U_{i}} =  h_{ji}^{L} \\\\\n",
        "\\frac{\\partial \\cal L}{\\partial U_{i}} = \\frac{\\partial \\cal L}{\\partial u^{(L+1)}_{j}} \\cdot h_{ji}^{L} \\Longrightarrow \\frac{\\partial \\cal L}{\\partial U} = \\frac{\\partial \\cal L}{\\partial u^{(L+1)}} \\cdot h^{(L)}\n",
        "\\end{equation}\n",
        "\n",
        "Mediante desarrollos similares se obtienen lo siguiente:\n",
        "\\begin{equation}\n",
        "\\frac{\\partial \\cal L}{\\partial c} = \\frac{\\partial \\cal L}{\\partial u^{(L+1)}_{j}} \\cdot \\frac{\\partial u^{(L+1)}_{j}}{\\partial c} = \\frac{\\partial \\cal L}{\\partial u^{(L+1)}_{j}} \\cdot 1_{i} = sum(\\frac{\\partial \\cal L}{\\partial u^{(L+1)}}) \\Longrightarrow \\frac{\\partial \\cal L}{\\partial c} = sum(\\frac{\\partial \\cal L}{\\partial u^{(L+1)}})\n",
        "\\end{equation}\n",
        "\n",
        "Finalmente, con respecto a $h^{L}$:\n",
        "\n",
        "\\begin{equation}\n",
        "\\frac{\\partial \\cal L}{\\partial h^{L}} \\Longrightarrow \\frac{\\partial \\cal L}{\\partial h^{L}_{ij}} = \\frac{\\partial \\cal L}{\\partial u^{(L+1)}_{kl}} \\cdot \\frac{\\partial u^{(L+1)}_{kl}}{\\partial h^{(L)}_{ij}}\n",
        "\\end{equation}\n",
        "\n",
        "De la expresión $u^{(L+1)}_{k} = h^{L}_{kl}U_{l} + c$ solo nos interesa el caso cuando $k=i, l=j$, con esto se tiene:\n",
        "\n",
        "\\begin{equation}\n",
        "\\frac{\\partial \\cal L}{u^{L+1}_{i}} \\cdot U_{j} \\Longrightarrow \\frac{\\partial \\cal L}{\\partial h^{(L)}_{ij}} = \\frac{\\partial \\cal L}{\\partial u^{(L+1)}_{i}} \\cdot U_{j}\n",
        "\\end{equation}\n",
        "\n",
        "En pytorch no se cuenta con producto tensorial, por lo que este producto puede ser tomado como un producto matricial con $U$ traspuesta para que las dimensiones de $\\frac{\\partial \\cal L}{\\partial h^{(L)}}$ sean $(B,d_{2})$ donde $d_{2}$ corresponde a la cantidad de elementos de la capa de salida.\n",
        "\n",
        "(No es necesario que repitas el código que era solo de ayuda para chequear las dimensiones.)"
      ]
    },
    {
      "cell_type": "markdown",
      "metadata": {
        "id": "1WNYoTIHXDS0"
      },
      "source": [
        "## 2c) Derivando desde las capas escondidas"
      ]
    },
    {
      "cell_type": "markdown",
      "metadata": {
        "id": "vz7TChQ8XDS0"
      },
      "source": [
        "Escribe tus respuestas acá. Repite los siguientes cálculos para $\\text{relu}, \\text{celu}, \\text{swish}$\n",
        "\n",
        "**Resolución**\n",
        "\n",
        "En primer lugar se cuenta con la relación conocida:\n",
        "\\begin{equation}\n",
        "h^{k} = f(u^{k}) \\\\\n",
        "u^{k} = h^{k-1}W^{k} + b^{k}\n",
        "\\end{equation}\n",
        "\n",
        " Las derivadas de $\\text{relu}, \\text{celu}, \\text{swish}$ fueron calculadas en el punto anterior, como en el caso anterior, dado que los puntos a evaluar se encuentran dentro de la función $h, u$ entonces nuevamente se utilizará regla de la cadena para realizar esto.\n",
        "<br>\n",
        "\n",
        "\\begin{equation}\n",
        "\\frac{\\partial\\cal L}{\\partial u^{(k)}} = \\frac{\\partial \\cal L}{\\partial h^{k}} \\cdot \\frac{\\partial h^{k}}{\\partial u^{k}} \\\\\n",
        "\\end{equation}\n",
        "<br>\n",
        "\n",
        "\\begin{equation}\n",
        "\\frac{\\partial\\cal L}{\\partial W^{(k)}} = \\frac{\\partial \\cal L}{\\partial u^{(k)}} \\cdot \\frac{\\partial u^{(k)}}{\\partial W^{(k)}} \\\\\n",
        "\\end{equation}\n",
        "<br>\n",
        "\n",
        "\\begin{equation}\n",
        "\\frac{\\partial\\cal L}{\\partial b^{(k)}} = \\frac{\\partial \\cal L}{\\partial u^{(k)}} \\cdot \\frac{\\partial u^{(k)}}{\\partial b^{(k)}} \\\\\n",
        "\\end{equation}\n",
        "<br>\n",
        "\n",
        "\\begin{equation}\n",
        "\\frac{\\partial\\cal L}{\\partial h^{(k-1)}} = \\frac{\\partial \\cal L}{\\partial u^{(k)}} \\cdot \\frac{\\partial u^{(k)}}{\\partial h^{(k-1)}} \\\\\n",
        "\\end{equation}\n",
        "<br>\n",
        "\n",
        "Asumiendo conocido el valor de $\\frac{\\partial \\cal L}{\\partial h^{(K)}}$, entonces para $\\frac{\\partial\\cal L}{\\partial u^{(k)}}$ solo se debe calcular $\\frac{\\partial\\ h^{(k)}}{\\partial u^{(k)}}$. Como las funciones de activación actuan punto a punto, entonces se pueden procesar los tensores de una vez.\n",
        "\n",
        "**Función relu**\n",
        "\\begin{equation}\n",
        "\\frac{\\partial h^{(k)}}{\\partial u^{(k)}} = \\frac{relu(u^{(k)})}{u^{(k)}} \\Longrightarrow \\frac{\\partial \\cal L}{\\partial u^{(k)}} = \\frac{\\partial \\cal L}{\\partial h^{(k)}} \\cdot \\frac{relu(U^{(k)})}{U^{(k)}}.\n",
        "\\end{equation}\n",
        "\n",
        "**Función swish**\n",
        "\\begin{equation}\n",
        "\\frac{\\partial h^{(k)}}{\\partial u^{(k)}} = \\sigma(\\beta U^{(k)}) + \\beta U^{(k)}(\\sigma(U^{(k)})(1-\\sigma(U^{(k)}))) \\Longrightarrow \\frac{\\partial \\cal L}{\\partial u^{(k)}} = \\frac{\\partial \\cal L}{\\partial h^{(k)}} \\cdot \\frac{\\partial h^{(k)}}{\\partial u^{(k)}}.\n",
        "\\end{equation}\n",
        "\n",
        "**Función celu**\n",
        "\n",
        "Para esto se tienen 2 casos:\n",
        "\\begin{equation}\n",
        "\\frac{\\partial h^{(k)}}{\\partial u^{(k)}_{ij}} = 1 \\\\\n",
        "\\frac{\\partial h^{(k)}}{\\partial u^{(k)}_{ij}} = e^{(\\frac{1}{\\alpha}\\cdot U_{ij}^{(k)})} \n",
        "\\end{equation}\n",
        "\n",
        "La primer función sucede cuando $U_{ij}\\geq 0$, mientras que la segunda relación es en caso contrario.\n",
        "\n",
        "Ahora teniendo esto y repitiendo los procedimientos realizados al calcular las derivadas de la última capa se obtiene lo siguiente:\n",
        "\n",
        "\\begin{equation}\n",
        "\\frac{\\partial \\cal L}{\\partial W_{ij}^{(k)}} = \\frac{\\partial \\cal L}{\\partial u^{(k)}_{st}} \\cdot \\frac{\\partial u^{(k)}_{st}}{\\partial W_{ij}^{(k)}} \\\\\n",
        "u_{st}^{(k)} = h^{(k-1)}_{sl}W_{lt}^{k} + b_{t}^{(k)}\n",
        "\\end{equation}\n",
        "\n",
        "Solo nos interesa cuando $l=i, t=j$, para todo lo demás sera 0. Entonces se tiene lo siguiente:\n",
        "\n",
        "\\begin{equation}\n",
        "\\frac{\\partial u_{sj}^{(k)}}{\\partial W_{ij}^{(k)}} = h_{si}^{(k-1)}\n",
        "\\end{equation}\n",
        "\n",
        "Entonces:\n",
        "\n",
        "\\begin{equation}\n",
        "\\frac{\\partial \\cal L}{\\partial W_{ij}^{(k)}} = \\frac{\\partial \\cal L}{\\partial u_{sj}^{(k)}} \\cdot h_{si}^{(k-1)} \\\\\n",
        "\\frac{\\partial \\cal L}{\\partial W^{(k)}} = (h^{(k-1)})^{T} @ \\frac{\\partial \\cal L}{\\partial u^{(k)}}\n",
        "\\end{equation}\n",
        "\n",
        "Derivando con respecto a $b^{(k)}$ de forma análoga se tiene:\n",
        "\n",
        "\\begin{equation}\n",
        "\\frac{\\partial \\cal L}{\\partial b^{(k)}} \\Longrightarrow \\frac{\\partial \\cal L}{\\partial b_{i}^{(k)}} = \\frac{\\partial \\cal L}{\\partial u_{st}^{(k)}} \\cdot \\frac{\\partial u_{st}^{(k)}}{\\partial b_{i}^{(k)}} \\\\\n",
        "u_{st}^{(k)} = h^{(k-1)}_{sl}W_{lt}^{(k)} + b_{t}^{(k)}\n",
        "\\end{equation}\n",
        "\n",
        "Donde solo nos interesa cuando $t=i$, entonces se tiene lo siguiente:\n",
        "\\begin{equation}\n",
        "\\frac{\\partial u_{si}^{(k)}}{\\partial b_{i}^{(k)}} = 1\n",
        "\\end{equation}\n",
        "\n",
        "Entonces:\n",
        "\\begin{equation}\n",
        "\\frac{\\partial \\cal L}{\\partial b_{i}^{(k)}} = \\frac{\\partial \\cal L}{\\partial u_{si}^{(k)}} \\cdot 1_{si} \\\\\n",
        "\\frac{\\partial \\cal L}{\\partial b^{(k)}} = sum(\\frac{\\partial \\cal L}{\\partial u^{(k)}})\n",
        "\\end{equation}\n",
        "\n",
        "Donde esta última expresión se suma sobre la primera dimensión, por lo que termina resultando un vector de tamaño $d_{2}$\n",
        "\n",
        "Finalmente realizando la derivada sobre la capa anterior:\n",
        "\n",
        "\\begin{equation}\n",
        "\\frac{\\partial \\cal L}{\\partial h^{(k-1)}} \\Longrightarrow \\frac{\\partial \\cal L}{\\partial h_{ij}^{(k-1)}} = \\frac{\\partial \\cal L}{\\partial u_{st}^{(k}} \\cdot \\frac{\\partial u_{st}^{(k)}}{\\partial h_{ij}^{(k-1)}} \\\\\n",
        "u_{st}^{(k)} = h^{(k-1)}_{sl}W_{lt}^{(k)} + b_{t}^{(k)}\n",
        "\\end{equation}\n",
        "\n",
        "Donde nos interesa cuando $s=i, l=j$ entonces se tiene:\n",
        "\\begin{equation}\n",
        "\\frac{\\partial u_{it}^{(k)}}{\\partial h_{(ij)}^{(k-1)}} = W_{jt}^{(k)}\n",
        "\\end{equation}\n",
        "\n",
        "Por lo que:\n",
        "\\begin{equation}\n",
        "\\frac{\\partial \\cal L}{\\partial h_{ij}^{(k-1)}} = \\frac{\\partial \\cal L}{\\partial u_{it}^{(k)}} \\cdot W_{jt}^{(k)} \\\\\n",
        "\\frac{\\partial \\cal L}{\\partial h^{(k-1)}} = \\frac{\\partial \\cal L}{\\partial u^{(k)}} @ (W^{(k)})^{T}\n",
        "\\end{equation}\n",
        "(No es necesario que repitas el código que era solo de ayuda para chequear las dimensiones.)"
      ]
    },
    {
      "cell_type": "code",
      "metadata": {
        "id": "yq90GeuHj2sU"
      },
      "source": [
        "# Para ir chequeando que al menos las dimensiones de los tensores son \n",
        "# consistentes usaremos las varibles *dummy* a continuación.\n",
        "B, C = 5, 10\n",
        "y = torch.ones(B,C)\n",
        "y_pred = torch.ones(B,C)"
      ],
      "execution_count": null,
      "outputs": []
    },
    {
      "cell_type": "code",
      "metadata": {
        "id": "Ia9CZ57Xj4yq"
      },
      "source": [
        "# Acá tu trozo de código. \n",
        "# Primero agregamos algunas variables dummy para chequear \n",
        "# que al menos las dimensiones están correctas\n",
        "dimL = 40\n",
        "hL = torch.ones(B,dimL)\n",
        "U = torch.ones(dimL,C)\n",
        "c = torch.ones(C)\n",
        "uLm1 = hL @ U + c\n",
        "\n",
        "# Ahora tu fórmula para el gradiente\n",
        "dL_duLm1 = (y_pred - y)/B\n",
        "\n",
        "# El gradiente debe coincidir en dimensiones con la variable\n",
        "assert dL_duLm1.size() == uLm1.size()"
      ],
      "execution_count": null,
      "outputs": []
    },
    {
      "cell_type": "code",
      "metadata": {
        "id": "qmTHna9EFmtJ"
      },
      "source": [
        "# Acá puedes probar tus cálculos usando código. \n",
        "dL_dU = hL.t() @ dL_duLm1\n",
        "dL_dc = torch.sum(dL_duLm1, dim=0)\n",
        "dL_dhL = dL_duLm1 @ U.t()\n",
        "\n",
        "# El gradiente debe coincidir en dimensiones con las variables.\n",
        "assert dL_dU.size() == U.size()\n",
        "assert dL_dc.size() == c.size()\n",
        "assert dL_dhL.size() == hL.size()"
      ],
      "execution_count": null,
      "outputs": []
    },
    {
      "cell_type": "code",
      "metadata": {
        "id": "J7OoPdpPsY8x"
      },
      "source": [
        "# Acá puedes probar tus cálculos usando código. \n",
        "# Primero agregamos algunas variables dummy para chequear \n",
        "# que al menos las dimensiones están correctas.\n",
        "dimk = 20\n",
        "dimkm1 = 30\n",
        "hk = torch.ones(B,dimk)\n",
        "Wk = torch.ones(dimk,dimkm1)\n",
        "bk = torch.ones(dimkm1)\n",
        "uk = hk @ Wk + bk\n",
        "dL_dhkm1 = torch.ones(B,dimkm1)\n",
        "dh_du = relu(uk, gradient=True)\n",
        "\n",
        "# Ahora tu fórmula para el gradiente.\n",
        "# Esto puedes repetirlo con tus expresiones para relu, celu, y swish.\n",
        "dL_duk = dL_dhkm1 * dh_du\n",
        "dL_dWk = hk.t() @ dL_duk\n",
        "dL_dbk = torch.sum(dL_duk, dim=0)\n",
        "dL_dhk = dL_duk @ Wk.t()\n",
        "\n",
        "# El gradiente debe coincidir en dimensiones con las variables.\n",
        "assert dL_dWk.size() == Wk.size()\n",
        "assert dL_dbk.size() == bk.size()\n",
        "assert dL_dhk.size() == hk.size()"
      ],
      "execution_count": null,
      "outputs": []
    },
    {
      "cell_type": "markdown",
      "metadata": {
        "id": "0n29s-6zXDS1"
      },
      "source": [
        "# Parte 3: Backpropagation en nuestra red"
      ]
    },
    {
      "cell_type": "markdown",
      "metadata": {
        "id": "do04-nhfXDS2"
      },
      "source": [
        "## 3a) Método `backward` + parte 3b) Opcional"
      ]
    },
    {
      "cell_type": "code",
      "metadata": {
        "id": "ytN2y-FMXDS3"
      },
      "source": [
        "# Acá solo deberías programar la función backward.\n",
        "# El resto del código viene de la Tarea 1 (a menos que hayas programado\n",
        "# la parte opcional en cuyo caso también deberías cambiar el inicializador).\n",
        "# Puedes incluir todo el código de la Tarea 1 que quieras.\n",
        "class FFNN(torch.nn.Module):\n",
        "  # código desde la Tarea 1\n",
        "  def __init__(self, F, l_h, l_a, C):\n",
        "    super(FFNN, self).__init__()\n",
        "    \n",
        "    sizes = [F] + l_h + [C]\n",
        "    self.Ws = torch.nn.ParameterList([torch.nn.Parameter(torch.randn(sizes[i], sizes[i+1])) for i in range(len(sizes)-1)])\n",
        "    self.bs = torch.nn.ParameterList([torch.nn.Parameter(torch.zeros(h)) for h in sizes[1:]])\n",
        "    self.fs = l_a\n",
        "    # self.fs_ps = torch.nn.ParameterList([torch.nn.Parameter(torch.tensor(p)) if p else None for p in l_a_params])\n",
        "\n",
        "  # código desde la Tarea 1\n",
        "  def load_weights(self, Ws, U, bs, c):\n",
        "    self.Ws = torch.nn.ParameterList([torch.nn.Parameter(W) for W in Ws + [U]])\n",
        "    self.bs = torch.nn.ParameterList([torch.nn.Parameter(b) for b in bs + [c]])\n",
        "\n",
        "  # código desde la Tarea 1\n",
        "  def resumen(self):\n",
        "    for name, p in self.named_parameters():\n",
        "      print('{}:\\t{}'.format(name, p.size()))\n",
        "    pass\n",
        "  \n",
        "  # código desde la Tarea 1\n",
        "  def forward(self, x):\n",
        "    # Usa los parámetros y funciones de activación.\n",
        "    # El valor de retorno debiera ser y = softmax(capa_de_salida).\n",
        "    u_layers = []\n",
        "    h_layers = []\n",
        "    for W, b, f in zip(self.Ws[:-1], self.bs[:-1], self.fs):\n",
        "      u = torch.mm(x, W) + b\n",
        "      x = f(u) \n",
        "      u_layers.append(u)\n",
        "      h_layers.append(x)\n",
        "\n",
        "    self.U_layers = u_layers\n",
        "    self.H_layers = h_layers\n",
        "    soft = torch.nn.Softmax(dim=1)\n",
        "    return soft(torch.mm(x, self.Ws[-1]) + self.bs[-1])\n",
        "\n",
        "  # nuevo código Tarea 2\n",
        "  def backward(self, x, y, y_pred):\n",
        "    # Computar acá todos los gradientes con respecto a L\n",
        "    # Hint: Los gradientes deben quedar almacenados en \n",
        "    #       el atributo `grad` para cada parámetro.\n",
        "    #       Más info sobre este atributo en\n",
        "    #       https://pytorch.org/docs/stable/autograd.html#torch.Tensor.grad\n",
        "    \n",
        "    # Ultima capa:\n",
        "    q_hlayer = len(self.fs)\n",
        "    B = x.size()[0]\n",
        "    dL_duL1 = (y_pred - y)/B\n",
        "    dL_duL = self.H_layers[-1].t() @ dL_duL1\n",
        "    dL_dc = torch.sum(dL_duL1, dim=0)\n",
        "    dL_dhk = dL_duL1 @ self.Ws[-1].t()\n",
        "    grads, params = [], []\n",
        "    functions_inv, W_inv, h_inv = list(reversed(self.fs)), list(reversed(self.Ws[:-1])), list(reversed(self.H_layers)) # Volteando la lista con los parametros\n",
        "    U_inv, b_inv = list(reversed(self.U_layers)), list(reversed(self.bs[:-1]))\n",
        "    # Iteración para las capas ocultas\n",
        "    for k in range(q_hlayer):\n",
        "      f_k, u_k, w_k = functions_inv[k], U_inv[k], W_inv[k]\n",
        "      dL_duk = dL_dhk * f_k(u_k, gradient=True)\n",
        "      dL_dbk = torch.sum(dL_duk, dim=0)\n",
        "      dL_dhk1 = dL_duk @ w_k.t()\n",
        "      dL_dwk = h_inv[k+1].t() @ dL_duk if not k == q_hlayer - 1 else x.t() @ dL_duk\n",
        "      dL_dhk = dL_dhk1\n",
        "      grads.append(dL_dwk)\n",
        "      params.append(w_k)\n",
        "      grads.append(dL_dbk)\n",
        "      params.append(b_inv[k])\n",
        "    grads.reverse()\n",
        "    grads.append(dL_duL)\n",
        "    grads.append(dL_dc)\n",
        "    params.reverse()\n",
        "    params.append(self.Ws[-1]) # Se añade U de la ultima capa\n",
        "    params.append(self.bs[-1]) # Se añade C de la última capa\n",
        "    Grads, Params = grads[:], params[:]\n",
        "    for p, g in zip(Params, Grads):\n",
        "      p.grad = g     "
      ],
      "execution_count": null,
      "outputs": []
    },
    {
      "cell_type": "code",
      "metadata": {
        "id": "1S3suoQ2tZfX",
        "colab": {
          "base_uri": "https://localhost:8080/"
        },
        "outputId": "88b4df6b-ed11-4533-e195-1c51a537f106"
      },
      "source": [
        "# Tests del API del curso\n",
        "# (estos Tests NO sustituyen al anterior en la verificación de los gradientes)\n",
        "for test in ['mnist-model']:\n",
        "  # Obtenemos los parámetos de la red desde el API\n",
        "  F, l_h, l_a, C, Ws, U, bs, c, X, y = corrector.get_test_data(homework=2, question=\"3a\", test=test, token=token)\n",
        "  l_a = [f for s in l_a for f in [sig, relu] if f.__name__ == s] # todo\n",
        "\n",
        "  # Inicializamos modelo con parámetros del API\n",
        "  your_model = FFNN(F=F, l_h=l_h, l_a=l_a, C=C)\n",
        "  your_model.load_weights([torch.Tensor(l) for l in Ws], torch.Tensor(U), [torch.Tensor(l) for l in bs], torch.Tensor(c))\n",
        "  \n",
        "  # Obtenemos el índice del parámetro Ws[1] en la lista de parámetros de tu modelo\n",
        "  idx = next(i for i, p in enumerate(your_model.parameters()) if p.size() == torch.Tensor(Ws[1]).size() and torch.all(torch.Tensor(Ws[1])==p))\n",
        "\n",
        "  # Ejecutemos el forward de para input del API\n",
        "  y_pred = your_model(torch.Tensor(X))\n",
        "  \n",
        "  # Ejecutemos el backward de tu modelo para ver como se comporta\n",
        "  s = timer()\n",
        "  your_model.backward(torch.Tensor(X), torch.Tensor(y), y_pred)\n",
        "  t = timer() - s\n",
        "  \n",
        "  # Veamos todo fue OK :)\n",
        "  # Si el Test te falla algunas veces por [time], puedes hacer time=0 ;-)\n",
        "  corrector.sumbit(homework=2, question=\"3a\", test=test, token=token, \n",
        "                   answer=list(your_model.parameters())[idx].grad.mean(), time=0)"
      ],
      "execution_count": null,
      "outputs": [
        {
          "output_type": "stream",
          "text": [
            "/usr/local/lib/python3.6/dist-packages/torch/nn/modules/container.py:434: UserWarning: Setting attributes on ParameterList is not supported.\n",
            "  warnings.warn(\"Setting attributes on ParameterList is not supported.\")\n",
            "/usr/local/lib/python3.6/dist-packages/ipykernel_launcher.py:26: FutureWarning: Old method `sumbit` has been renamed to `submit`, please use that instead.\n"
          ],
          "name": "stderr"
        },
        {
          "output_type": "stream",
          "text": [
            "Correct Test!\n"
          ],
          "name": "stdout"
        }
      ]
    },
    {
      "cell_type": "markdown",
      "metadata": {
        "id": "s6_7qOkAlcTX"
      },
      "source": [
        "## 3c) Opcional: Chequeo de gradiente"
      ]
    },
    {
      "cell_type": "code",
      "metadata": {
        "id": "AjfsSKLIlgKj"
      },
      "source": [
        "# No es necesario que entregues código en esta parte dado \n",
        "# que solo es necesario para debuggear que tu implementación está correcta.\n",
        "# Pero si quieres, igual hay espacio ;-)"
      ],
      "execution_count": null,
      "outputs": []
    },
    {
      "cell_type": "markdown",
      "metadata": {
        "id": "SDSYiQQ6nkjX"
      },
      "source": [
        "# Parte 4: Descenso de gradiente y optimización"
      ]
    },
    {
      "cell_type": "markdown",
      "metadata": {
        "id": "yqBwusuXnsjO"
      },
      "source": [
        "## 4a) Descenso de gradiente (estocástico)"
      ]
    },
    {
      "cell_type": "code",
      "metadata": {
        "id": "tId-cHk7ntDW"
      },
      "source": [
        "# Tu código debiera comenzar así\n",
        "\n",
        "class SGD():\n",
        "  def __init__(self, parameters, lr):\n",
        "    # lo que sea necesario inicializar\n",
        "    self.parameters = parameters\n",
        "    self.lr = lr\n",
        "  \n",
        "  def step(self):\n",
        "    # actualiza acá los parámetros a partir del gradiente de cada uno\n",
        "    params = []\n",
        "    for p in self.parameters:\n",
        "      p.data -= self.lr * p.grad\n",
        "      params.append(p)\n",
        "    self.parameters = params"
      ],
      "execution_count": null,
      "outputs": []
    },
    {
      "cell_type": "code",
      "metadata": {
        "id": "yN9Bh70SJGgI",
        "colab": {
          "base_uri": "https://localhost:8080/"
        },
        "outputId": "d626dea3-722d-4c49-efeb-767f87907e00"
      },
      "source": [
        "# Tests del API del curso\n",
        "from torch.nn import Parameter\n",
        "for test in ['small-step', 'big-step', 'random']:\n",
        "  # Obtengamos una lista de parámetros (con gradientes en .grad) y un valor lr\n",
        "  ds, gs, lr, idx = corrector.get_test_data(homework=2, question=\"4a\", test=test, token=token)\n",
        "  parameters = [Parameter(torch.Tensor(d)) for d in ds]\n",
        "  for p, g in zip(parameters, gs):\n",
        "    p.grad = torch.Tensor(g)\n",
        "\n",
        "  # Inicialicemos tu SGD\n",
        "  optimizer = SGD(parameters, lr)\n",
        "\n",
        "  # Ejecutemos un paso de tu SGD para ver como se comporta\n",
        "  s = timer()\n",
        "  optimizer.step()\n",
        "  t = timer() - s\n",
        "\n",
        "  # Veamos si todo fue OK :)\n",
        "  # Si el Test te falla algunas veces por [time], puedes hacer time=0 ;-)\n",
        "  corrector.sumbit(homework=2, question=\"4a\", test=test, token=token, \n",
        "                   answer=parameters[idx].data, time=0)"
      ],
      "execution_count": null,
      "outputs": [
        {
          "output_type": "stream",
          "text": [
            "/usr/local/lib/python3.6/dist-packages/ipykernel_launcher.py:21: FutureWarning: Old method `sumbit` has been renamed to `submit`, please use that instead.\n"
          ],
          "name": "stderr"
        },
        {
          "output_type": "stream",
          "text": [
            "Correct Test!\n",
            "Correct Test!\n",
            "Correct Test!\n"
          ],
          "name": "stdout"
        }
      ]
    },
    {
      "cell_type": "markdown",
      "metadata": {
        "id": "wy0KFSX4nzP0"
      },
      "source": [
        "## 4b) Datos para carga"
      ]
    },
    {
      "cell_type": "code",
      "metadata": {
        "id": "bByG7kXlnwAQ"
      },
      "source": [
        "from torch.utils.data import Dataset, DataLoader\n",
        "\n",
        "# Aquí tu código.\n",
        "# Tu clase debiera verse así\n",
        "class RandomDataset(Dataset):\n",
        "  def __init__(self, N, F, C):\n",
        "    R_N_f = torch.rand(N,F)\n",
        "    self.X = torch.bernoulli(R_N_f)\n",
        "    target = torch.randint(0, C, (N,))\n",
        "    self.Y = torch.nn.functional.one_hot(target).type(torch.float32)\n",
        "    self.num_features = F\n",
        "  \n",
        "  def __len__(self):\n",
        "    return self.X.size()[0]\n",
        "  \n",
        "  def __getitem__(self, i):\n",
        "    return self.X[i], self.Y[i]"
      ],
      "execution_count": null,
      "outputs": []
    },
    {
      "cell_type": "code",
      "metadata": {
        "id": "x49Wy06IsJDU",
        "colab": {
          "base_uri": "https://localhost:8080/"
        },
        "outputId": "85c67e30-2fbf-4ce4-c183-ca89f744341a"
      },
      "source": [
        "# Inicialicemos un RandomDataset de prueba\n",
        "N,F,C=100,300,10\n",
        "your_dataset = RandomDataset(N=N, F=F, C=C)\n",
        "\n",
        "# Veamos como se comportan __len__ y __getitem__\n",
        "print(\"Correct Test!\" if len(your_dataset) == N else \"Failed Test [len]\") \n",
        "print(\"Correct Test!\" if type(your_dataset[N//2]) == tuple and len(your_dataset[N//3]) == 2 else \"Failed Test [getitem]\")"
      ],
      "execution_count": null,
      "outputs": [
        {
          "output_type": "stream",
          "text": [
            "Correct Test!\n",
            "Correct Test!\n"
          ],
          "name": "stdout"
        }
      ]
    },
    {
      "cell_type": "markdown",
      "metadata": {
        "id": "2-q8vJOMn3AA"
      },
      "source": [
        "## 4c) Optimizando los parámetros de la red para datos al azar"
      ]
    },
    {
      "cell_type": "code",
      "metadata": {
        "id": "Ap0AKJijn5DY"
      },
      "source": [
        "# Tu código acá\n",
        "def entrenar_FFNN(red, dataset, optimizador, epochs=1, batch_size=1, device='cpu'):\n",
        "  red.to(device)\n",
        "  \n",
        "  # Inicialicemos un DataLoader para los ejemplos de dataset\n",
        "  data = DataLoader(dataset, batch_size, shuffle=True)\n",
        "\n",
        "  # Comienza el entrenamiento\n",
        "  loss, acc = [], []\n",
        "  for e in range(1,epochs+1):\n",
        "    for x, y in data:\n",
        "      x, y = x.to(device), y.to(device)\n",
        "      y_pred = red.forward(x)\n",
        "      red.backward(x, y, y_pred)\n",
        "      L = CELoss(y_pred, y)\n",
        "      pred_values, class_values = torch.argmax(y_pred, dim=1), torch.argmax(y, dim=1)\n",
        "      correctos = torch.sum(pred_values == class_values).item()\n",
        "    Acc = (correctos / len(y)) * 100\n",
        "    loss.append(L)\n",
        "    acc.append(Acc)\n",
        "    optimizador.step()\n",
        "  return loss, acc"
      ],
      "execution_count": null,
      "outputs": []
    },
    {
      "cell_type": "code",
      "metadata": {
        "id": "M0VbGtY5aWLk",
        "colab": {
          "base_uri": "https://localhost:8080/"
        },
        "outputId": "93b4abd6-5f16-454e-c0a9-029c9044756a"
      },
      "source": [
        "F = 300\n",
        "N = 500\n",
        "C = 10\n",
        "dataset = RandomDataset(N=N, F=F, C=C)\n",
        "# model = your_model\n",
        "model = FFNN(F=F,l_h=[50,30],l_a=[relu, sig], C=C)\n",
        "optimizer = SGD(model.parameters(), lr=0.25)\n",
        "epochs = 400\n",
        "with torch.no_grad():\n",
        "  loss, acc = entrenar_FFNN(model, dataset, optimizer, epochs=epochs, batch_size=500)"
      ],
      "execution_count": null,
      "outputs": [
        {
          "output_type": "stream",
          "text": [
            "/usr/local/lib/python3.6/dist-packages/torch/nn/modules/container.py:434: UserWarning: Setting attributes on ParameterList is not supported.\n",
            "  warnings.warn(\"Setting attributes on ParameterList is not supported.\")\n"
          ],
          "name": "stderr"
        }
      ]
    },
    {
      "cell_type": "markdown",
      "metadata": {
        "id": "NDnYdhV0n_X-"
      },
      "source": [
        "## 4d) Graficando la pérdida/error en el tiempo"
      ]
    },
    {
      "cell_type": "code",
      "metadata": {
        "id": "oufOfvyIRvAT"
      },
      "source": [
        "import matplotlib.pyplot as plt\n",
        "\n",
        "def plot_results(loss, acc):\n",
        "  # Muestra dos figuras: \n",
        "  #  (1) gráfico para la lista `loss` (Loss) y \n",
        "  #  (2) gráfico para la lista `acc` (Accuracy)\n",
        "\n",
        "  f1 = plt.figure(1)\n",
        "  ax1 = f1.add_subplot(111)\n",
        "  ax1.set_title(\"Loss\")    \n",
        "  ax1.set_xlabel('epochs')\n",
        "  ax1.set_ylabel('loss')\n",
        "  ax1.plot(loss, c='r')\n",
        "  f1.show()\n",
        "\n",
        "  f2 = plt.figure(2)\n",
        "  ax2 = f2.add_subplot(111)\n",
        "  ax2.set_title(\"Accuracy\")    \n",
        "  ax2.set_xlabel('epochs')\n",
        "  ax2.set_ylabel('acc')\n",
        "  ax2.plot(acc, c='b')\n",
        "  f2.show()"
      ],
      "execution_count": null,
      "outputs": []
    },
    {
      "cell_type": "code",
      "metadata": {
        "id": "rZEFha4VOqPn",
        "colab": {
          "base_uri": "https://localhost:8080/",
          "height": 573
        },
        "outputId": "d1df0875-dd7d-4e19-b036-0a0ec5e38e2f"
      },
      "source": [
        "plot_results(loss=loss, acc=acc)"
      ],
      "execution_count": null,
      "outputs": [
        {
          "output_type": "display_data",
          "data": {
            "image/png": "[encoded data removed]",
            "text/plain": [
              "<Figure size 432x288 with 1 Axes>"
            ]
          },
          "metadata": {
            "tags": [],
            "needs_background": "light"
          }
        },
        {
          "output_type": "display_data",
          "data": {
            "image/png": "[encoded data removed]",
            "text/plain": [
              "<Figure size 432x288 with 1 Axes>"
            ]
          },
          "metadata": {
            "tags": [],
            "needs_background": "light"
          }
        }
      ]
    },
    {
      "cell_type": "code",
      "metadata": {
        "id": "ekmzwqxNf6gW",
        "colab": {
          "base_uri": "https://localhost:8080/",
          "height": 573
        },
        "outputId": "7188b368-df27-429f-fee3-c63052521018"
      },
      "source": [
        "plot_results(loss=loss, acc=acc)"
      ],
      "execution_count": null,
      "outputs": [
        {
          "output_type": "display_data",
          "data": {
            "image/png": "[encoded data removed]",
            "text/plain": [
              "<Figure size 432x288 with 1 Axes>"
            ]
          },
          "metadata": {
            "tags": [],
            "needs_background": "light"
          }
        },
        {
          "output_type": "display_data",
          "data": {
            "image/png": "[encoded data removed]",
            "text/plain": [
              "<Figure size 432x288 with 1 Axes>"
            ]
          },
          "metadata": {
            "tags": [],
            "needs_background": "light"
          }
        }
      ]
    },
    {
      "cell_type": "code",
      "metadata": {
        "id": "_wN28dfug4ex",
        "colab": {
          "base_uri": "https://localhost:8080/",
          "height": 573
        },
        "outputId": "8513ca13-17fe-4321-b6e6-132cbb2e6f6d"
      },
      "source": [
        "plot_results(loss=loss, acc=acc)"
      ],
      "execution_count": null,
      "outputs": [
        {
          "output_type": "display_data",
          "data": {
            "image/png": "[encoded data removed]",
            "text/plain": [
              "<Figure size 432x288 with 1 Axes>"
            ]
          },
          "metadata": {
            "tags": [],
            "needs_background": "light"
          }
        },
        {
          "output_type": "display_data",
          "data": {
            "image/png": "[encoded data removed]",
            "text/plain": [
              "<Figure size 432x288 with 1 Axes>"
            ]
          },
          "metadata": {
            "tags": [],
            "needs_background": "light"
          }
        }
      ]
    },
    {
      "cell_type": "code",
      "metadata": {
        "id": "NVhVgf1poBkQ"
      },
      "source": [
        "# Tu código acá"
      ],
      "execution_count": null,
      "outputs": []
    },
    {
      "cell_type": "markdown",
      "metadata": {
        "id": "ICCODVV9oF9d"
      },
      "source": [
        "## 4e) Opcional: Optimizando tu red para MNIST"
      ]
    },
    {
      "cell_type": "code",
      "metadata": {
        "id": "-cRIuWQroDW9"
      },
      "source": [
        "# Tu código de carga de datos, creación de la red, \n",
        "# entrenamiento/optimización y reportes acá"
      ],
      "execution_count": null,
      "outputs": []
    }
  ]
}