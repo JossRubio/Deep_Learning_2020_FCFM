{
  "nbformat": 4,
  "nbformat_minor": 0,
  "metadata": {
    "colab": {
      "name": "Resolucion_Tarea_5_CC6204_2020 [PUBLICADA]",
      "provenance": [],
      "collapsed_sections": []
    },
    "kernelspec": {
      "name": "python3",
      "display_name": "Python 3"
    },
    "accelerator": "GPU"
  },
  "cells": [
    {
      "cell_type": "markdown",
      "metadata": {
        "id": "4zhjpqvcdo5o"
      },
      "source": [
        "# Tarea 5: Redes Recurrentes <br/> CC6204 Deep Learning, Universidad de Chile <br/> Hoja de Respuestas\n",
        "\n",
        "## Nombre: José Manuel Rubio Cienfuegos\n",
        "Fecha de entrega: 30 de diciembre de 2020"
      ]
    },
    {
      "cell_type": "code",
      "metadata": {
        "id": "64BkmYga3UN_",
        "colab": {
          "base_uri": "https://localhost:8080/"
        },
        "outputId": "b0bf3137-977d-484c-c59f-5abf64302b9c"
      },
      "source": [
        "import os\n",
        "\n",
        "import torch\n",
        "import torchvision\n",
        "\n",
        "from collections import Counter\n",
        "from torchvision import  \n",
        "import matplotlib.pyplot as plt\n",
        "\n",
        "# Aqui descargamos algunas funciones utiles para resolver la tarea\n",
        "if not os.path.exists('utils.py'):\n",
        "    !wget https://raw.githubusercontent.com/dccuchile/CC6204/master/2020/tareas/tarea5/utils.py -q --show-progress"
      ],
      "execution_count": null,
      "outputs": [
        {
          "output_type": "stream",
          "text": [
            "\rutils.py              0%[                    ]       0  --.-KB/s               \rutils.py            100%[===================>]   4.10K  --.-KB/s    in 0s      \n"
          ],
          "name": "stdout"
        }
      ]
    },
    {
      "cell_type": "code",
      "metadata": {
        "id": "KS9LeqZRJ5zn"
      },
      "source": [
        "from utils import extract_text_from_set, extract_text_from_set, tokenize_text \n",
        "from utils import encode_sentences, pad_sequence_with_lengths, pad_sequence_with_images\n",
        "from utils import TextDataset, CaptioningDataset"
      ],
      "execution_count": null,
      "outputs": []
    },
    {
      "cell_type": "markdown",
      "metadata": {
        "id": "HNoC8iTiKtg0"
      },
      "source": [
        "# Parte 1: Generación de texto"
      ]
    },
    {
      "cell_type": "markdown",
      "metadata": {
        "id": "gnPZTm8HMaNn"
      },
      "source": [
        "### Datos"
      ]
    },
    {
      "cell_type": "code",
      "metadata": {
        "id": "VTiSVBGoK0Xo",
        "colab": {
          "base_uri": "https://localhost:8080/"
        },
        "outputId": "4ee7002d-0d85-4c85-9f61-6cd2f13a6ffc"
      },
      "source": [
        "##############################################################################\n",
        "# Todo este código sirve para descargar, preprocesar y dejar los datos\n",
        "# listos para usar después. Después de ejecutar las dos celdas siguientes\n",
        "# tendrás los datos en train_flickr_tripletset y similar para val y test\n",
        "##############################################################################\n",
        "\n",
        "folder_path = './data/flickr8k'\n",
        "if not os.path.exists(f'{folder_path}/images'):\n",
        "    print('*** Descargando y extrayendo Flickr8k, siéntese y relájese 4 mins...')\n",
        "    print('****** Descargando las imágenes...')\n",
        "    !wget https://s06.imfd.cl/04/CC6204/tareas/tarea4/Flickr8k_Dataset.zip -P $folder_path/images -q --show-progress \n",
        "    print('********* Extrayendo las imágenes...\\n  Si te sale mensaje de colab, dale Ignorar\\n')\n",
        "    !unzip -q $folder_path/images/Flickr8k_Dataset.zip -d $folder_path/images\n",
        "    print('*** Descargando anotaciones de las imágenes...')\n",
        "    !wget http://hockenmaier.cs.illinois.edu/8k-pictures.html -P $folder_path/annotations -q --show-progress\n",
        "\n",
        "print('Inicializando pytorch Flickr8k dataset')\n",
        "full_flickr_set = torchvision.datasets.Flickr8k(root=f'{folder_path}/images/Flicker8k_Dataset', ann_file = f'{folder_path}/annotations/8k-pictures.html')\n",
        "\n",
        "print('Creando train, val y test splits...')\n",
        "train_flickr_set, val_flickr_set, test_flickr_set = [], [], []\n",
        "for i, item in enumerate(full_flickr_set):\n",
        "  if i<6000:\n",
        "    train_flickr_set.append(item)\n",
        "  elif i<7000:\n",
        "    val_flickr_set.append(item)\n",
        "  else:\n",
        "    test_flickr_set.append(item)\n",
        "\n",
        "print('Listo!')"
      ],
      "execution_count": null,
      "outputs": [
        {
          "output_type": "stream",
          "text": [
            "*** Descargando y extrayendo Flickr8k, siéntese y relájese 4 mins...\n",
            "****** Descargando las imágenes...\n",
            "Flickr8k_Dataset.zi  96%[==================> ]   1.01G  5.38MB/s    in 4m 17s  \n",
            "Flickr8k_Dataset.zi 100%[+++++++++++++++++++>]   1.04G  7.66MB/s    in 4.8s    \n",
            "********* Extrayendo las imágenes...\n",
            "  Si te sale mensaje de colab, dale Ignorar\n",
            "\n",
            "*** Descargando anotaciones de las imágenes...\n",
            "8k-pictures.html    100%[===================>]   3.53M  6.70MB/s    in 0.5s    \n",
            "Inicializando pytorch Flickr8k dataset\n",
            "Creando train, val y test splits...\n",
            "Listo!\n"
          ],
          "name": "stdout"
        }
      ]
    },
    {
      "cell_type": "markdown",
      "metadata": {
        "id": "mDKp92H8OnZB"
      },
      "source": [
        "#### Extrae los textos"
      ]
    },
    {
      "cell_type": "code",
      "metadata": {
        "id": "b2q2_dNcMda2",
        "colab": {
          "base_uri": "https://localhost:8080/"
        },
        "outputId": "02048806-e3fa-4264-e4b8-1541d809655b"
      },
      "source": [
        "train_text = extract_text_from_set(train_flickr_set)\n",
        "val_text = extract_text_from_set(val_flickr_set)\n",
        "test_text = extract_text_from_set(test_flickr_set)"
      ],
      "execution_count": null,
      "outputs": [
        {
          "output_type": "stream",
          "text": [
            "100%|██████████| 6000/6000 [00:00<00:00, 548191.43it/s]\n",
            "100%|██████████| 1000/1000 [00:00<00:00, 348306.26it/s]\n",
            "100%|██████████| 663/663 [00:00<00:00, 414615.11it/s]\n"
          ],
          "name": "stderr"
        }
      ]
    },
    {
      "cell_type": "code",
      "metadata": {
        "colab": {
          "base_uri": "https://localhost:8080/",
          "height": 35
        },
        "id": "l1demMzsTzhc",
        "outputId": "64898328-4588-41ca-d857-bc76cba55d43"
      },
      "source": [
        "train_text[0]"
      ],
      "execution_count": null,
      "outputs": [
        {
          "output_type": "execute_result",
          "data": {
            "application/vnd.google.colaboratory.intrinsic+json": {
              "type": "string"
            },
            "text/plain": [
              "'A child in a pink dress is climbing up a set of stairs in an entry way.'"
            ]
          },
          "metadata": {
            "tags": []
          },
          "execution_count": 5
        }
      ]
    },
    {
      "cell_type": "markdown",
      "metadata": {
        "id": "l5HI9-O0OqIT"
      },
      "source": [
        "#### Genera los tokens"
      ]
    },
    {
      "cell_type": "code",
      "metadata": {
        "id": "cFt8moUHNtII"
      },
      "source": [
        "tokenizer = get_tokenizer('spacy')\n",
        "counter = Counter()  # para llevar la cuenta de los tokens y su ocurrencia\n",
        "\n",
        "train_tokens, counter = tokenize_text(train_text, tokenizer, counter)\n",
        "test_tokens, counter = tokenize_text(test_text, tokenizer, counter)\n",
        "val_tokens, counter = tokenize_text(val_text, tokenizer, counter)"
      ],
      "execution_count": null,
      "outputs": []
    },
    {
      "cell_type": "markdown",
      "metadata": {
        "id": "7hatUPnGOwdi"
      },
      "source": [
        "#### Define el vocabulario y agrega `<pad>` y `<sos>`"
      ]
    },
    {
      "cell_type": "code",
      "metadata": {
        "id": "UTJ-7AXmOSOw"
      },
      "source": [
        "vocab = list(counter.keys())\n",
        "vocab.append('<pad>')\n",
        "vocab.append('<sos>')\n",
        "word2idx = {word: i for i, word in enumerate(vocab)}\n",
        "pad_idx = word2idx['<pad>']"
      ],
      "execution_count": null,
      "outputs": []
    },
    {
      "cell_type": "markdown",
      "metadata": {
        "id": "WikFbU1LPA_G"
      },
      "source": [
        "#### Convierte oraciones a ids y genera los dataset de entrenamiento"
      ]
    },
    {
      "cell_type": "code",
      "metadata": {
        "id": "zDcBWuesOhrJ"
      },
      "source": [
        "train_sentences = encode_sentences(train_tokens, vocab, word2idx)\n",
        "test_sentences = encode_sentences(test_tokens, vocab, word2idx)\n",
        "val_sentences = encode_sentences(val_tokens, vocab, word2idx)\n",
        "\n",
        "train_dataset = TextDataset(train_sentences)\n",
        "test_dataset = TextDataset(test_sentences)\n",
        "val_dataset = TextDataset(val_sentences)"
      ],
      "execution_count": null,
      "outputs": []
    },
    {
      "cell_type": "markdown",
      "metadata": {
        "id": "wSvpUdxURgLR"
      },
      "source": [
        "Con todo lo anterior, además de tener los dataset para entrenamiento, podemos también obtener identificadores correspondientes a textos que nosotros decidamos, haciendo algo como lo siguiente:"
      ]
    },
    {
      "cell_type": "code",
      "metadata": {
        "id": "OCml7LsLPpNl",
        "colab": {
          "base_uri": "https://localhost:8080/"
        },
        "outputId": "6f4b9bfb-3b1c-4ccf-a41f-3442c056f499"
      },
      "source": [
        "s1 = 'A woman holding a cup of tea.'\n",
        "s2 = 'A man with a dog.'\n",
        "\n",
        "S = [s1,s2]\n",
        "tokens, _ = tokenize_text(S, tokenizer)\n",
        "D = encode_sentences(tokens, vocab, word2idx)\n",
        "\n",
        "print('tokens:', tokens)\n",
        "print('ids:', D)"
      ],
      "execution_count": null,
      "outputs": [
        {
          "output_type": "stream",
          "text": [
            "tokens: [['<sos>', 'a', 'woman', 'holding', 'a', 'cup', 'of', 'tea', '.'], ['<sos>', 'a', 'man', 'with', 'a', 'dog', '.']]\n",
            "ids: [[8460, 0, 238, 94, 0, 1570, 9, 1022, 14], [8460, 0, 78, 36, 0, 27, 14]]\n"
          ],
          "name": "stdout"
        }
      ]
    },
    {
      "cell_type": "markdown",
      "metadata": {
        "id": "D8oMGt5CpSNQ"
      },
      "source": [
        "#### Creamos los data loaders (puedes cambiar el tamaño del batch si lo deseas)\n",
        "\n"
      ]
    },
    {
      "cell_type": "code",
      "metadata": {
        "id": "_LS1ADBtQscp"
      },
      "source": [
        "batch_size = 64\n",
        "\n",
        "train_dataloader = DataLoader(\n",
        "    train_dataset, batch_size=batch_size, shuffle=True, \n",
        "    collate_fn=lambda data_list: pad_sequence_with_lengths(data_list, pad_idx))\n",
        "test_dataloader = DataLoader(\n",
        "    test_dataset, batch_size=batch_size, shuffle=False, \n",
        "    collate_fn=lambda data_list: pad_sequence_with_lengths(data_list, pad_idx))\n",
        "val_dataloader = DataLoader(\n",
        "    val_dataset, batch_size=batch_size, shuffle=False, \n",
        "    collate_fn=lambda data_list: pad_sequence_with_lengths(data_list, pad_idx))"
      ],
      "execution_count": null,
      "outputs": []
    },
    {
      "cell_type": "markdown",
      "metadata": {
        "id": "mipSa7R1jAkd"
      },
      "source": [
        "**IMPORTANTE**: Nuestros datasets y dataloaders consideran también los largos de las secuencias. El siguiente código obtiene el primer elemento del dataset y el primer elemento del dataloader de prueba. Nota que lo que entregan en ambos casos es un par: la primera componente del par tiene los datos (los índices) mientras que la segunda componente tiene información de los largos de las secuencias."
      ]
    },
    {
      "cell_type": "code",
      "metadata": {
        "id": "FC-g5Ceyichj",
        "colab": {
          "base_uri": "https://localhost:8080/"
        },
        "outputId": "73f21d50-f85a-40c9-9a46-0522dc6579a9"
      },
      "source": [
        "d, length = test_dataset[0]\n",
        "print('len(d):', len(d))\n",
        "print('length:', length)"
      ],
      "execution_count": null,
      "outputs": [
        {
          "output_type": "stream",
          "text": [
            "len(d): 13\n",
            "length: 13\n"
          ],
          "name": "stdout"
        }
      ]
    },
    {
      "cell_type": "code",
      "metadata": {
        "id": "e31bJzWwQsah",
        "colab": {
          "base_uri": "https://localhost:8080/"
        },
        "outputId": "1c1d43d7-ddb5-4eba-a1d8-3368d867294a"
      },
      "source": [
        "# Obtiene un paquete desde el dataloader\n",
        "for data in test_dataloader:\n",
        "  D, Lengths = data\n",
        "  break\n",
        "\n",
        "print(D.size())\n",
        "print(Lengths.size())\n",
        "\n",
        "# La primera dimensión de D corresponde al largo\n",
        "# máximo de las secuencias en el batch\n",
        "assert D.size()[0] == torch.max(Lengths)\n",
        "\n",
        "# La segunda dimensión de D corresponde al tamaño del\n",
        "# batch, al igual que la dimensión de Lengths\n",
        "assert D.size()[1] == batch_size \n",
        "assert Lengths.size()[0] == batch_size"
      ],
      "execution_count": null,
      "outputs": [
        {
          "output_type": "stream",
          "text": [
            "torch.Size([25, 64])\n",
            "torch.Size([64])\n"
          ],
          "name": "stdout"
        }
      ]
    },
    {
      "cell_type": "markdown",
      "metadata": {
        "id": "mFRqoHLxrzYR"
      },
      "source": [
        "## 1a) Red recurrente"
      ]
    },
    {
      "cell_type": "markdown",
      "metadata": {
        "id": "-UHE6ZcMik8i"
      },
      "source": [
        "### RNN"
      ]
    },
    {
      "cell_type": "code",
      "metadata": {
        "id": "nZswYBYer0kz"
      },
      "source": [
        "# Acá empieza tu código\n",
        "\n",
        "class RedRecurrente(torch.nn.Module):\n",
        "    def __init__(self, RNN_type = 'RNN', vocab_size=10000, emb_dim=100, rec_dim=30, rec_layers=3, \n",
        "        pad_value=8459, p_drop=.5, batch_size=64): # Piensa en todo lo que necesitas para incializar.\n",
        "        # Crea las capas considerando al menos los puntos de arriba.\n",
        "        super(RedRecurrente, self).__init__()\n",
        "        self.emb_layer = nn.Embedding(vocab_size, emb_dim, padding_idx=pad_value)\n",
        "        if RNN_type == 'RNN':  \n",
        "          self.R_layer = nn.RNN(emb_dim, rec_dim, rec_layers)\n",
        "        elif RNN_type == 'GRU':\n",
        "          self.R_layer = nn.GRU(emb_dim, rec_dim, rec_layers)\n",
        "        elif RNN_type == 'LSTM':\n",
        "          self.R_layer = nn.LSTM(emb_dim, rec_dim, rec_layers)\n",
        "        else:\n",
        "          print('Invalid RNN type.')\n",
        "        self.out_layer = nn.Linear(rec_dim, vocab_size)\n",
        "        self.dropout = nn.Dropout(p=p_drop)\n",
        "        self.BN = nn.BatchNorm1d(batch_size)\n",
        "        self.BN_2 = nn.BatchNorm1d(48)\n",
        "        self.BN_3 = nn.BatchNorm1d(8)\n",
        "        self.BN_predict = nn.BatchNorm1d(1)\n",
        "\n",
        "    def forward(self, x, h_0=None, predict=False):\n",
        "        # Acá debes programar la pasada hacia adelante.\n",
        "        # El vector h_0 deberías simplemente pasarlo directo\n",
        "        # a tu red recurrente (RNN, o GRU, o LSTM) y será necesario\n",
        "        # para trabajar en la sección (1c) y en la parte 2. \n",
        "        # También puedes usar dropout, batch normalization o lo que necesites.\n",
        "        b_size = x.size()[1]\n",
        "        x = self.emb_layer(x)\n",
        "        x, h = self.R_layer(x)\n",
        "        if predict:\n",
        "          x = self.BN_predict(x)\n",
        "        else:\n",
        "          if b_size == 64:\n",
        "            x = self.BN(x)\n",
        "          elif b_size == 48:\n",
        "            x = self.BN_2(x)\n",
        "          else:\n",
        "            x = self.BN_3(x)\n",
        "        x = self.dropout(x)\n",
        "        logits = self.out_layer(x)\n",
        "        return logits"
      ],
      "execution_count": null,
      "outputs": []
    },
    {
      "cell_type": "markdown",
      "metadata": {
        "id": "hTKju5aPsA6H"
      },
      "source": [
        "## 1b) Entrenamiento"
      ]
    },
    {
      "cell_type": "code",
      "metadata": {
        "id": "d0YB5e-NLQZC",
        "colab": {
          "base_uri": "https://localhost:8080/"
        },
        "outputId": "85783207-81c3-4f11-f0f7-e7fba1f6eae1"
      },
      "source": [
        "# Acá tu código para el loop de entrenamiento\n",
        "# y los gráficos de la pérdida\n",
        "\n",
        "import sys\n",
        " \n",
        "# indice de padding y tamaño de vocabulario de ejemplo\n",
        "pad_idx = 8459\n",
        "voc_size = len(vocab)\n",
        "\n",
        "RNN = RedRecurrente(RNN_type='LSTM', vocab_size=voc_size, emb_dim=100, rec_dim=120, rec_layers=3, p_drop=0.2)\n",
        "\n",
        "criterion = nn.CrossEntropyLoss(ignore_index=pad_idx, reduction='mean')\n",
        "optimizer = optim.Adam(RNN.parameters())\n",
        "\n",
        "RNN = RNN.to('cuda')\n",
        "\n",
        "epochs = 7\n",
        "loss_train, loss_val = [], []\n",
        "\n",
        "for epoch in range(epochs):\n",
        "  RNN.train()\n",
        "  running_loss = 0.0\n",
        "\n",
        "  for i, data in enumerate(train_dataloader):\n",
        "  # for i, data in enumerate(train_dataloader):\n",
        "    X, length = data\n",
        "    X, Y = X[:-1, :].to('cuda'), X[1:,:].to('cuda')\n",
        "    optimizer.zero_grad()\n",
        "    Y_pred = RNN(X).view(-1, voc_size)\n",
        "    # print(Y_pred.size())\n",
        "    # print(Y.size())\n",
        "    loss = criterion(Y_pred, Y.view(-1))\n",
        "    loss.backward()\n",
        "    optimizer.step()\n",
        "\n",
        "    # Cálculo y reporte de coste.\n",
        "    items = (i+1) * batch_size\n",
        "    running_loss += loss.item()\n",
        "    info = f'\\rEpoch:{epoch+1}({items}/{30016}), '\n",
        "    info += f'Train Loss:{running_loss/(i+1):02.5f}, '\n",
        "    sys.stdout.write(info)\n",
        "\n",
        "  loss_train.append(running_loss/468.99)\n",
        "\n",
        "  with torch.no_grad():\n",
        "  # RNN.eval()\n",
        "    for data_v in val_dataloader:\n",
        "      X_v, len_v = data_v\n",
        "      X_v, Y_v = X_v[:-1,:].to('cuda'), X_v[1:,:].to('cuda')\n",
        "      Yv_pred = RNN(X_v).view(-1, voc_size)\n",
        "      loss_v = criterion(Yv_pred, Y_v.view(-1))\n",
        "    info = f'Val loss:{loss_v}.\\n'\n",
        "    sys.stdout.write(info)\n",
        "    loss_val.append(loss_v.cpu().numpy().reshape(1,)[0])\n",
        "    \n",
        "print('loss train: ',loss_train)\n",
        "print('loss val: ', loss_val)"
      ],
      "execution_count": null,
      "outputs": [
        {
          "output_type": "stream",
          "text": [
            "Epoch:1(30016/30016), Train Loss:4.33954, Val loss:5.483774185180664.\n",
            "Epoch:2(30016/30016), Train Loss:3.38867, Val loss:5.317324638366699.\n",
            "Epoch:3(30016/30016), Train Loss:3.12403, Val loss:5.206422805786133.\n",
            "Epoch:4(30016/30016), Train Loss:2.96066, Val loss:5.232067108154297.\n",
            "Epoch:5(30016/30016), Train Loss:2.83912, Val loss:5.249197006225586.\n",
            "Epoch:6(30016/30016), Train Loss:2.73679, Val loss:5.254299640655518.\n",
            "Epoch:7(30016/30016), Train Loss:2.64865, Val loss:5.27931022644043.\n",
            "loss train:  [4.339629814958732, 3.388739678419415, 3.1241001087749063, 2.96072384582079, 2.839179292066069, 2.736844826655621, 2.6487076454583116]\n",
            "loss val:  [5.483774, 5.3173246, 5.206423, 5.232067, 5.249197, 5.2542996, 5.27931]\n"
          ],
          "name": "stdout"
        }
      ]
    },
    {
      "cell_type": "code",
      "metadata": {
        "colab": {
          "base_uri": "https://localhost:8080/",
          "height": 295
        },
        "id": "oiGmmwM8MCiP",
        "outputId": "6d2f0743-30b4-4a8b-cef8-3dbde913b027"
      },
      "source": [
        "Epochs = range(1,epochs+1)\n",
        "plt.plot(Epochs, loss_train, label='train_loss')\n",
        "plt.plot(Epochs, loss_val, label='val_loss')\n",
        "plt.title('Cross Entropy model')\n",
        "plt.xlabel('Epochs')\n",
        "plt.ylabel('Loss')\n",
        "plt.legend()\n",
        "plt.grid(True)\n",
        "plt.show()"
      ],
      "execution_count": null,
      "outputs": [
        {
          "output_type": "display_data",
          "data": {
            "image/png": "[encoded data removed]",
            "text/plain": [
              "<Figure size 432x288 with 1 Axes>"
            ]
          },
          "metadata": {
            "tags": [],
            "needs_background": "light"
          }
        }
      ]
    },
    {
      "cell_type": "markdown",
      "metadata": {
        "id": "Z3fdjct4b8Pt"
      },
      "source": [
        "## 1c) Generación de texto"
      ]
    },
    {
      "cell_type": "code",
      "metadata": {
        "id": "t2tDFPuFwcmR"
      },
      "source": [
        "from torch.distributions.categorical import Categorical"
      ],
      "execution_count": null,
      "outputs": []
    },
    {
      "cell_type": "code",
      "metadata": {
        "id": "Mq_6_M_PcFQ0"
      },
      "source": [
        "# Acá tu código para generar texto usando el modelo\n",
        "\n",
        "def generate_sentence(model, init_sentence, max_length, sample=False):\n",
        "  global vocab, word2idx, tokenizer, voc_size, token_id\n",
        "  # Usa acá lo que necesites para crear una secuencia de\n",
        "  # salida. Muy posiblemente tendrás que usar un tokenizador\n",
        "  # y el diccionario para pasar de índices a tokens (palabras).\n",
        "  sentence = init_sentence\n",
        "  for k in range(max_length):\n",
        "    init_tokens, _ = tokenize_text([sentence], tokenizer)\n",
        "    Data = torch.tensor(encode_sentences(init_tokens, vocab, word2idx)).cuda()\n",
        "    logits_data = model.forward(Data.T, predict=True).view(-1, voc_size)\n",
        "    logits_index_max = torch.max(F.softmax(logits_data, dim=1), dim=1)[1]\n",
        "    if sample:\n",
        "      next_word = vocab[token_id[logits_index_max[-2]]]\n",
        "    else:\n",
        "      next_word = vocab[logits_index_max[-2]]\n",
        "    if next_word == '.':\n",
        "      sentence += next_word\n",
        "      break\n",
        "    else:\n",
        "      sentence += ' ' + next_word \n",
        "  return sentence"
      ],
      "execution_count": null,
      "outputs": []
    },
    {
      "cell_type": "markdown",
      "metadata": {
        "id": "3-Rbk0sdOP8x"
      },
      "source": [
        "### Ejemplos de generación de texto."
      ]
    },
    {
      "cell_type": "code",
      "metadata": {
        "colab": {
          "base_uri": "https://localhost:8080/"
        },
        "id": "o7roUfleOwbd",
        "outputId": "4feb8a9f-35c5-4068-805a-f76e60befe3d"
      },
      "source": [
        "model = RNN\n",
        "\n",
        "sentence_1 = val_text[0]\n",
        "sentence_2 = val_text[20]\n",
        "sentence_3 = val_text[70]\n",
        "\n",
        "len_cut = 4\n",
        "\n",
        "sentence_1_cut, sentence_2_cut = sentence_1.split()[:len_cut], sentence_2.split()[:len_cut]\n",
        "sentence_3_cut = sentence_3.split()[:len_cut]\n",
        "\n",
        "sent_1c, sent_2c, sent_3c = '', '', ''\n",
        "\n",
        "for k in range(len_cut):\n",
        "  if k == len_cut - 1:\n",
        "    sent_1c += sentence_1_cut[k]\n",
        "    sent_2c += sentence_2_cut[k]\n",
        "    sent_3c += sentence_3_cut[k]\n",
        "  else:\n",
        "    sent_1c += sentence_1_cut[k] + ' '\n",
        "    sent_2c += sentence_2_cut[k] + ' '\n",
        "    sent_3c += sentence_3_cut[k] + ' '\n",
        "\n",
        "generate_length = 15\n",
        "\n",
        "generate_1 = generate_sentence(model, sent_1c, generate_length)\n",
        "generate_2 = generate_sentence(model, sent_2c, generate_length)\n",
        "generate_3 = generate_sentence(model, sent_3c, generate_length)\n",
        "\n",
        "print('Sentences:')\n",
        "print(sentence_1)\n",
        "print(sentence_2)\n",
        "print(sentence_3)\n",
        "\n",
        "print('------------------------------------------------------')\n",
        "\n",
        "print('Sentences cut')\n",
        "print(sent_1c)\n",
        "print(sent_2c)\n",
        "print(sent_3c)\n",
        "\n",
        "print('------------------------------------------------------')\n",
        "print('Sentences generated:')\n",
        "print(generate_1)\n",
        "print(generate_2)\n",
        "print(generate_3)"
      ],
      "execution_count": null,
      "outputs": [
        {
          "output_type": "stream",
          "text": [
            "Sentences:\n",
            "A man in blue jumping a dirt bike.\n",
            "A professional wrestler falls outside the ring.\n",
            "A person in a yellow shirt and jeans is running on a track.\n",
            "------------------------------------------------------\n",
            "Sentences cut\n",
            "A man in blue\n",
            "A professional wrestler falls\n",
            "A person in a\n",
            "------------------------------------------------------\n",
            "Sentences generated:\n",
            "A man in blue is standing on a sidewalk with a woman in a city.\n",
            "A professional wrestler falls to the finish of a man in a blue shirt and a woman holding a\n",
            "A person in a red and white helmet is riding a bicycle on a trail.\n"
          ],
          "name": "stdout"
        }
      ]
    },
    {
      "cell_type": "markdown",
      "metadata": {
        "id": "bxr7W07Rb_Zx"
      },
      "source": [
        "## 1d) Opcional: Beam Search"
      ]
    },
    {
      "cell_type": "code",
      "metadata": {
        "id": "ELk5bZgycCFz"
      },
      "source": [
        "# Acá tu código para generar texto usando beam search\n",
        "\n",
        "def beam_search_generation(model, init_sentence, K, ...):\n",
        "  # El K representa al ancho del beam para la búsqueda.\n",
        "  return sentence"
      ],
      "execution_count": null,
      "outputs": []
    },
    {
      "cell_type": "markdown",
      "metadata": {
        "id": "6Mw8PKh-uF7P"
      },
      "source": [
        "# Parte 2 (Opcional): Subtitulado de imágenes"
      ]
    },
    {
      "cell_type": "markdown",
      "metadata": {
        "id": "h-jqTnsbSjpZ"
      },
      "source": [
        "#### Generamos transformación para el dataset\n",
        "\n",
        "Algo importante es que estamos usando la normalización estándar para los modelos pre-entrenados que provee pytoch. Si vas a usar algún otro modelo (o incluso uno generado por ti), podrías necesitar otra normalización. También nota que estamos usando el tamaño estándar de `224x224` para las imágenes que reciben los modelos pre-entrenados de pytorch. Si no quieres usar esos modelos o si quieres hacer el entrenamiento más rápido, puedes cambiarle la resolución a las imágenes."
      ]
    },
    {
      "cell_type": "code",
      "metadata": {
        "id": "97n_3naFlAO9"
      },
      "source": [
        "transform = transforms.Compose(\n",
        "            [\n",
        "              transforms.ToTensor(), \n",
        "              transforms.Resize((224, 224)),\n",
        "              transforms.Normalize(\n",
        "                  mean=[0.485, 0.456, 0.406], \n",
        "                  std=[0.229, 0.224, 0.225])\n",
        "            ])"
      ],
      "execution_count": null,
      "outputs": []
    },
    {
      "cell_type": "markdown",
      "metadata": {
        "id": "J_HkFYB-sQ0t"
      },
      "source": [
        "#### Creamos los data loaders (puedes cambiar el tamaño del batch si lo deseas)"
      ]
    },
    {
      "cell_type": "code",
      "metadata": {
        "id": "g1djUvkSpmlT"
      },
      "source": [
        "batch_size = 16\n",
        "\n",
        "train_dataloader = DataLoader(\n",
        "    CaptioningDataset(\n",
        "        train_flickr_set, transform, tokenizer, word2idx, \"<sos>\", \".\"),\n",
        "    batch_size=batch_size,\n",
        "    shuffle=True,\n",
        "    collate_fn=lambda x: pad_sequence_with_images(x, pad_idx)\n",
        "    )\n",
        "\n",
        "test_dataloader = DataLoader(\n",
        "    CaptioningDataset(\n",
        "        test_flickr_set, transform, tokenizer, word2idx, \"<sos>\", \".\"),\n",
        "    batch_size=batch_size,\n",
        "    shuffle=False,\n",
        "    collate_fn=lambda x: pad_sequence_with_images(x, pad_idx)\n",
        "    )\n",
        "\n",
        "val_dataloader = DataLoader(\n",
        "    CaptioningDataset(\n",
        "        val_flickr_set, transform, tokenizer, word2idx, \"<sos>\", \".\"),\n",
        "    batch_size=batch_size,\n",
        "    shuffle=False,\n",
        "    collate_fn=lambda x: pad_sequence_with_images(x, pad_idx)\n",
        "    )"
      ],
      "execution_count": null,
      "outputs": []
    },
    {
      "cell_type": "markdown",
      "metadata": {
        "id": "bHH-FpoZsVEE"
      },
      "source": [
        "**IMPORTANTE**: Nuestros dataloaders ahora contienen las secuencias de identificadores de los tokens del texto, los largos de las secuencias y las imágenes correspondientes. El siguiente código obtiene el primer elemento del dataloader de prueba. Nota que lo que entregan en ambos casos es una tripleta: la primera componente tiene los datos desde los textos (los índices), la segunda componente tiene información de los largos de las secuencias, y la tercera componente la información de las imágenes."
      ]
    },
    {
      "cell_type": "code",
      "metadata": {
        "id": "nTQQhZZWqPWF"
      },
      "source": [
        "# Obtiene un paquete desde el dataloader\n",
        "for data in test_dataloader:\n",
        "  Text, Lengths, Img = data\n",
        "  break\n",
        "\n",
        "print(Text.size())\n",
        "print(Lengths.size())\n",
        "print(Img.size())\n",
        "\n",
        "# La primera dimensión de Text corresponde al largo\n",
        "# máximo de las secuencias en el batch\n",
        "assert Text.size()[0] == torch.max(Lengths)\n",
        "\n",
        "# La segunda dimensión de D corresponde al tamaño del\n",
        "# batch, al igual que la dimensión de Lengths y la primera\n",
        "# dimensión de Img\n",
        "assert Text.size()[1] == batch_size \n",
        "assert Lengths.size()[0] == batch_size\n",
        "assert Img.size()[0] == batch_size"
      ],
      "execution_count": null,
      "outputs": []
    },
    {
      "cell_type": "markdown",
      "metadata": {
        "id": "r-CnRQBOTQjw"
      },
      "source": [
        "### Usando modelos pre-entrenados\n",
        "\n",
        "El siguiente código carga VGG16 (pre-entrenado), pasa el modelo a la GPU. "
      ]
    },
    {
      "cell_type": "code",
      "metadata": {
        "id": "M2i2IL4-s0PJ"
      },
      "source": [
        "import torchvision.models as models\n",
        "vgg16 = models.vgg16(pretrained=True)\n",
        "vgg16 = vgg16.to('cuda')"
      ],
      "execution_count": null,
      "outputs": []
    },
    {
      "cell_type": "markdown",
      "metadata": {
        "id": "z_aVkA4tTr9H"
      },
      "source": [
        "Con un codigo como el siguiente podemos calcular las características para las imágenes `Img` del batch que obtuvimos más arriba. Nota el uso de `.eval()` y `with torch.no_grad()`."
      ]
    },
    {
      "cell_type": "code",
      "metadata": {
        "id": "StImMpdss0F8"
      },
      "source": [
        "Img = Img.to('cuda')\n",
        "\n",
        "vgg16.eval()\n",
        "with torch.no_grad():\n",
        "  F = vgg16.features(Img)\n",
        "\n",
        "print(F.size())"
      ],
      "execution_count": null,
      "outputs": []
    },
    {
      "cell_type": "markdown",
      "metadata": {
        "id": "tqi-CEqkuVM-"
      },
      "source": [
        "Finalmente y por si lo necesitas, puedes acceder a las imágenes originales del dataloader haciendo algo como esto:"
      ]
    },
    {
      "cell_type": "code",
      "metadata": {
        "id": "D_y725BJs0UK"
      },
      "source": [
        "val_dataloader.dataset.original_image(0)"
      ],
      "execution_count": null,
      "outputs": []
    },
    {
      "cell_type": "markdown",
      "metadata": {
        "id": "qtaST3BqXOks"
      },
      "source": [
        "## 2a) Red convolucional + recurrente"
      ]
    },
    {
      "cell_type": "code",
      "metadata": {
        "id": "JTcuwtNEs0D1"
      },
      "source": [
        "class CaptioningModel(torch.nn.Module):\n",
        "    def __init__(self, ...): \n",
        "        # Crea las capas considerando una parte que procese debe procesar\n",
        "        # la imagen de entrada y otra que debe producir el texto (índices)\n",
        "        # de salida.\n",
        "        pass\n",
        "        \n",
        "    def forward(self, ...):\n",
        "        # Acá debes programar la pasada hacia adelante.\n",
        "        # Debes decidir qué le pasarás a la red y cómo haras la \n",
        "        # computación hacia adelante. Considera que no solo\n",
        "        # debes entrenar los parámetros sino que además debes\n",
        "        # después ser capaz de generar una secuencia de salida\n",
        "        # desde una imagen de entrada.\n",
        "        return ...   "
      ],
      "execution_count": null,
      "outputs": []
    },
    {
      "cell_type": "markdown",
      "metadata": {
        "id": "U5ifPKElXPk_"
      },
      "source": [
        "## 2b) Entrenamiento"
      ]
    },
    {
      "cell_type": "code",
      "metadata": {
        "id": "7Xb6B5CFs0AU"
      },
      "source": [
        "# Acá tu código para el loop de entrenamiento\n",
        "# y los gráficos de la pérdida"
      ],
      "execution_count": null,
      "outputs": []
    },
    {
      "cell_type": "markdown",
      "metadata": {
        "id": "gYtj8aw4XQSX"
      },
      "source": [
        "## 2c) Generando texto desde imágenes de prueba\n"
      ]
    },
    {
      "cell_type": "code",
      "metadata": {
        "id": "EYQ_LUEmsz97"
      },
      "source": [
        "# Acá tu código para generar texto usando desde imágenes\n",
        "# y un par de ejemplos con las imágenes del conjunto de prueba"
      ],
      "execution_count": null,
      "outputs": []
    }
  ]
}